{
 "cells": [
  {
   "cell_type": "code",
   "execution_count": null,
   "metadata": {
    "collapsed": true
   },
   "outputs": [],
   "source": [
    "# XML exercise and solution\n",
    "# Solutions to exercise of accessing nodes in XML tree structure\n",
    "\n",
    "# reference: https://docs.python.org/2.7/library/xml.etree.elementtree.html\n",
    "# data source: http://www.dbis.informatik.uni-goettingen.de/Mondial\n",
    "\n",
    "# Data in 'data/mondial_database.xml', used, and refering to \n",
    "# https://docs.python.org/2.7/library/xml.etree.elementtree.html"
   ]
  },
  {
   "cell_type": "code",
   "execution_count": 1,
   "metadata": {
    "collapsed": false
   },
   "outputs": [
    {
     "name": "stdout",
     "output_type": "stream",
     "text": [
      "[(1.81, 'Monaco'), (2.13, 'Japan'), (2.48, 'Bermuda'), (2.48, 'Norway'), (2.53, 'Singapore'), (2.6, 'Sweden'), (2.63, 'Czech Republic'), (2.73, 'Hong Kong'), (3.13, 'Macao'), (3.15, 'Iceland')]\n"
     ]
    }
   ],
   "source": [
    "# 1. Find 10 countries with the lowest infant mortality rates\n",
    "# Import the data by Reading the file from directory\n",
    "from xml.etree import ElementTree as ET\n",
    "tree = ET.parse('./data/mondial_database.xml')\n",
    "root = tree.getroot()\n",
    "# Empty array of low countries with low mortality eartes\n",
    "low_mortality_countries = []\n",
    "for country in root.findall('./country'):\n",
    "    data = {\n",
    "        'name': None,\n",
    "        'infant_mortality': None\n",
    "    }\n",
    "    data['name'] = country.find('./name').text\n",
    "    data['infant_mortality'] = country.findtext('./infant_mortality')\n",
    "    if data['infant_mortality'] is not None:\n",
    "        low_mortality_countries.append((float(data['infant_mortality']), data['name']))\n",
    "        #print (len(low_mortality_countries))\n",
    "        if len(low_mortality_countries) is 228:\n",
    "            low_mortality_countries.sort()\n",
    "            print(low_mortality_countries[:10])\n"
   ]
  },
  {
   "cell_type": "code",
   "execution_count": 2,
   "metadata": {
    "collapsed": false
   },
   "outputs": [
    {
     "name": "stdout",
     "output_type": "stream",
     "text": [
      "[(3255288.0, 'Pyongyang'), (3403135.0, 'Busan'), (3939305.0, 'New Taipei'), (4123869.0, 'Al Iskandariyah'), (5076700.0, 'Singapore'), (5968384.0, 'Ho Chi Minh'), (7055071.0, 'Hong Kong'), (7506700.0, 'Bangkok'), (8471859.0, 'Al Qahirah'), (9708483.0, 'Seoul')]\n"
     ]
    }
   ],
   "source": [
    "# 2. Find 10 cities with the largest population\n",
    "import operator\n",
    "from xml.etree import ElementTree as ET\n",
    "tree = ET.parse('./data/mondial_database.xml')\n",
    "root = tree.getroot()\n",
    "cities_largest_pop = []\n",
    "for city in root.findall('./country/city'):\n",
    "    data = {\n",
    "        'name': None,\n",
    "        'population': None\n",
    "    }\n",
    "    data['name'] = city.findtext('./name')\n",
    "    data['population'] = city.findtext('./population[last()]')\n",
    "    if data['population'] is not None and float(data['population']) > 0:\n",
    "        cities_largest_pop.append((float(data['population']), data['name']))\n",
    "        #print (len(cities_largest_pop))\n",
    "        if len(cities_largest_pop) is 256:\n",
    "            cities_largest_pop.sort()\n",
    "            print(cities_largest_pop[-10:])"
   ]
  },
  {
   "cell_type": "code",
   "execution_count": 3,
   "metadata": {
    "collapsed": false
   },
   "outputs": [
    {
     "name": "stdout",
     "output_type": "stream",
     "text": [
      "[(76078375.3, 'Vietnam', ['Viet/Kinh']), (108886717.794, 'Brazil', ['European']), (113456006.10000001, 'Indonesia', ['Javanese']), (114646210.938, 'Russia', ['Russian']), (126534212.00000001, 'Japan', ['Japanese']), (146776916.72, 'Bangladesh', ['Bengali']), (162651570.84, 'Nigeria', ['African']), (254958101.97759998, 'United States', ['European']), (302713744.25, 'India', ['Dravidian']), (1245058800.0, 'China', ['Han Chinese'])]\n"
     ]
    }
   ],
   "source": [
    "# 3. Find 10 ethnic groups with the largest overall populations \n",
    "# (sum of best/latest estimates over all countries)\n",
    "# Import the data by Reading the file from directory\n",
    "import operator\n",
    "from xml.etree import ElementTree as ET\n",
    "tree = ET.parse('./data/mondial_database.xml')\n",
    "root = tree.getroot()\n",
    "Ethnic_Grps = []\n",
    "for country in root.findall('./country'):\n",
    "    data = {\n",
    "        'name': None,\n",
    "        'population': None,\n",
    "        'ethnicgroup': None\n",
    "    }\n",
    "    data['name'] = country.findtext('./name')\n",
    "    population_list = int(country.findtext('./population[last()]'))\n",
    "    for ethnicgroup in country.findall('./ethnicgroup[1]'):\n",
    "        data['ethnicgroup']= list(ethnicgroup.itertext())\n",
    "        ethnic = country.find('./ethnicgroup[1]')\n",
    "        ethnicperc = float(ethnic.get('percentage'))/100\n",
    "        data['population'] = population_list*ethnicperc\n",
    "        if data['population'] is not None and data['ethnicgroup'] is not None:\n",
    "            Ethnic_Grps.append((float(data['population']), data['name'], data['ethnicgroup']))\n",
    "            #print (len(Ethnic_Grps))\n",
    "            if len(Ethnic_Grps) is 197:\n",
    "                Ethnic_Grps.sort()\n",
    "                print(Ethnic_Grps[-10:])"
   ]
  },
  {
   "cell_type": "code",
   "execution_count": 4,
   "metadata": {
    "collapsed": false
   },
   "outputs": [
    {
     "data": {
      "text/plain": [
       "[(('river-Amazonas', 'CO BR PE'), 6448.0)]"
      ]
     },
     "execution_count": 4,
     "metadata": {},
     "output_type": "execute_result"
    }
   ],
   "source": [
    "# 4 a. Find name and country of the longest river\n",
    "longest_river = {}\n",
    "for river in root.iterfind('river'):\n",
    "    name = river.get('id')\n",
    "    #print (name)\n",
    "    country = river.get('country')\n",
    "    #print (country)\n",
    "    length = river.find('./length')\n",
    "    if length is None:\n",
    "        pass\n",
    "    else:\n",
    "        #print (float(length.text))\n",
    "        longest_river[name, country]=float(length.text)\n",
    "sorted_longest_river = sorted(longest_river.items(), key=operator.itemgetter(1), reverse=True)[:1]\n",
    "sorted_longest_river"
   ]
  },
  {
   "cell_type": "code",
   "execution_count": 5,
   "metadata": {
    "collapsed": false
   },
   "outputs": [
    {
     "data": {
      "text/plain": [
       "[(('lake-KaspischesMeer', 'R AZ KAZ IR TM'), 386400.0)]"
      ]
     },
     "execution_count": 5,
     "metadata": {},
     "output_type": "execute_result"
    }
   ],
   "source": [
    "# 4 b. Find name and country of the largest lake\n",
    "largest_lake = {}\n",
    "for lake in root.iterfind('lake'):\n",
    "    name = lake.get('id')\n",
    "    #print (name)\n",
    "    country = lake.get('country')\n",
    "    #print (country)\n",
    "    area = lake.find('./area')\n",
    "    if area is None:\n",
    "        pass\n",
    "    else:\n",
    "        #print (float(area.text))\n",
    "        largest_lake[name, country]=float(area.text)\n",
    "sorted_largest_lake = sorted(largest_lake.items(), key=operator.itemgetter(1), reverse=True)[:1]\n",
    "sorted_largest_lake"
   ]
  },
  {
   "cell_type": "code",
   "execution_count": 9,
   "metadata": {
    "collapsed": false
   },
   "outputs": [
    {
     "ename": "TypeError",
     "evalue": "float() argument must be a string or a number, not 'NoneType'",
     "output_type": "error",
     "traceback": [
      "\u001b[0;31m---------------------------------------------------------------------------\u001b[0m",
      "\u001b[0;31mTypeError\u001b[0m                                 Traceback (most recent call last)",
      "\u001b[0;32m<ipython-input-9-96f3eb472e23>\u001b[0m in \u001b[0;36m<module>\u001b[0;34m()\u001b[0m\n\u001b[1;32m     13\u001b[0m     \u001b[1;32melse\u001b[0m\u001b[1;33m:\u001b[0m\u001b[1;33m\u001b[0m\u001b[0m\n\u001b[1;32m     14\u001b[0m         \u001b[1;31m#print (float(elevation.text))\u001b[0m\u001b[1;33m\u001b[0m\u001b[1;33m\u001b[0m\u001b[0m\n\u001b[0;32m---> 15\u001b[0;31m         \u001b[0mhighest_elev_airport\u001b[0m\u001b[1;33m[\u001b[0m\u001b[0mname\u001b[0m\u001b[1;33m,\u001b[0m \u001b[0mcountry\u001b[0m\u001b[1;33m]\u001b[0m\u001b[1;33m=\u001b[0m\u001b[0mfloat\u001b[0m\u001b[1;33m(\u001b[0m\u001b[0melevation\u001b[0m\u001b[1;33m.\u001b[0m\u001b[0mtext\u001b[0m\u001b[1;33m)\u001b[0m\u001b[1;33m\u001b[0m\u001b[0m\n\u001b[0m\u001b[1;32m     16\u001b[0m \u001b[0msorted_highest_elev_airport\u001b[0m \u001b[1;33m=\u001b[0m \u001b[0msorted\u001b[0m\u001b[1;33m(\u001b[0m\u001b[0mhighest_elev_airport\u001b[0m\u001b[1;33m.\u001b[0m\u001b[0mitems\u001b[0m\u001b[1;33m(\u001b[0m\u001b[1;33m)\u001b[0m\u001b[1;33m,\u001b[0m \u001b[0mkey\u001b[0m\u001b[1;33m=\u001b[0m\u001b[0moperator\u001b[0m\u001b[1;33m.\u001b[0m\u001b[0mitemgetter\u001b[0m\u001b[1;33m(\u001b[0m\u001b[1;36m1\u001b[0m\u001b[1;33m)\u001b[0m\u001b[1;33m,\u001b[0m \u001b[0mreverse\u001b[0m\u001b[1;33m=\u001b[0m\u001b[1;32mTrue\u001b[0m\u001b[1;33m)\u001b[0m\u001b[1;33m[\u001b[0m\u001b[1;33m:\u001b[0m\u001b[1;36m1\u001b[0m\u001b[1;33m]\u001b[0m\u001b[1;33m\u001b[0m\u001b[0m\n\u001b[1;32m     17\u001b[0m \u001b[0msorted_highest_elev_airport\u001b[0m\u001b[1;33m\u001b[0m\u001b[0m\n",
      "\u001b[0;31mTypeError\u001b[0m: float() argument must be a string or a number, not 'NoneType'"
     ]
    }
   ],
   "source": [
    "# 4 c. Find name and country of the airport at highest elevation\n",
    "highest_elev_airport = {}\n",
    "for airport in root.iterfind('airport'):\n",
    "    name = airport.get('iatacode')\n",
    "    #print (name)\n",
    "    country = airport.get('country')\n",
    "    #print (country)\n",
    "    elevation = airport.findtex('./elevation')\n",
    "    if elevation is None:\n",
    "        pass\n",
    "    elif elevation=='':\n",
    "        pass\n",
    "    else:\n",
    "        #print (float(elevation.text))\n",
    "        highest_elev_airport[name, country]=float(elevation.text)\n",
    "sorted_highest_elev_airport = sorted(highest_elev_airport.items(), key=operator.itemgetter(1), reverse=True)[:1]\n",
    "sorted_highest_elev_airport"
   ]
  },
  {
   "cell_type": "code",
   "execution_count": null,
   "metadata": {
    "collapsed": true
   },
   "outputs": [],
   "source": []
  },
  {
   "cell_type": "code",
   "execution_count": null,
   "metadata": {
    "collapsed": true
   },
   "outputs": [],
   "source": []
  }
 ],
 "metadata": {
  "kernelspec": {
   "display_name": "Python 3",
   "language": "python",
   "name": "python3"
  },
  "language_info": {
   "codemirror_mode": {
    "name": "ipython",
    "version": 3
   },
   "file_extension": ".py",
   "mimetype": "text/x-python",
   "name": "python",
   "nbconvert_exporter": "python",
   "pygments_lexer": "ipython3",
   "version": "3.6.0"
  }
 },
 "nbformat": 4,
 "nbformat_minor": 2
}
